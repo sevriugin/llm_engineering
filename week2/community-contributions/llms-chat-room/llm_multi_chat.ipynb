{
 "cells": [
  {
   "metadata": {
    "collapsed": true,
    "ExecuteTime": {
     "end_time": "2025-10-03T11:54:55.134153Z",
     "start_time": "2025-10-03T11:54:55.132338Z"
    }
   },
   "cell_type": "markdown",
   "source": [
    "### LLMs Chat Room\n",
    "Several LLMs model discussion the topic inside the chat room\n"
   ],
   "id": "b317cfdc98c19cf2"
  },
  {
   "metadata": {
    "ExecuteTime": {
     "end_time": "2025-10-04T05:57:12.005820Z",
     "start_time": "2025-10-04T05:57:11.643328Z"
    }
   },
   "cell_type": "code",
   "source": "from llm_chat_room import LLMChatRoom",
   "id": "33d224807d0b0be6",
   "outputs": [],
   "execution_count": 2
  },
  {
   "metadata": {
    "ExecuteTime": {
     "end_time": "2025-10-04T05:57:13.634876Z",
     "start_time": "2025-10-04T05:57:13.581962Z"
    }
   },
   "cell_type": "code",
   "source": [
    "llms = [\"gpt\",\"claude\",\"gemini\"]\n",
    "subject = \"Pets\"\n",
    "room = LLMChatRoom(llms, subject)"
   ],
   "id": "70746449bfd70fcf",
   "outputs": [],
   "execution_count": 3
  },
  {
   "metadata": {
    "ExecuteTime": {
     "end_time": "2025-10-04T05:57:27.445150Z",
     "start_time": "2025-10-04T05:57:16.403831Z"
    }
   },
   "cell_type": "code",
   "source": "room.chat(5)",
   "id": "1b717ae03a6c48c0",
   "outputs": [
    {
     "name": "stdout",
     "output_type": "stream",
     "text": [
      "Giorgio: Pets are truly wonderful companions. They bring joy, comfort, and a sense of responsibility into our lives. Whether it's a dog, cat, or even smaller animals like hamsters or birds, each pet has its unique way of connecting with us. I believe caring for a pet can teach patience and unconditional love. What's everyone's experience with pets?\n",
      "--------------------------------------------------------------------------------\n",
      "Isabella: Giorgio, I agree wholeheartedly! Pets are amazing companions. I think the unconditional love and joy they bring is truly special. What kind of pets do you all have or have had in the past? I'm curious to hear about your experiences!\n",
      "\n",
      "--------------------------------------------------------------------------------\n",
      "Isabella: That's a great question, Isabella! I would like to know what kind of pets do you have? Also it would be interesting to know what is the most challenging aspect of pet ownership you have experienced?\n",
      "\n",
      "--------------------------------------------------------------------------------\n",
      "Giorgio: Giorgio: I’ve had a variety of pets over the years, mainly dogs and cats. Each has taught me something different—dogs with their loyalty and energy, cats with their independence and mystery. The most challenging aspect often is the commitment; ensuring their needs are met consistently requires dedication. But honestly, the love and companionship they give back make it all worthwhile. How about you, Isabella? What pet do you have, or what would you like to have?\n",
      "--------------------------------------------------------------------------------\n",
      "Anna: Anna: Thank you for sharing, Giorgio! I've always been fascinated by how different pets can teach us such unique lessons. I currently have a rescue cat named Luna, and she's been such a wonderful addition to my life. What I find most rewarding about pet ownership is watching them develop trust and personality over time, especially with rescues who may have had difficult pasts.\n",
      "\n",
      "Isabella, to answer your question about challenges - I'd say the most difficult part for me has been managing Luna's health needs as she's gotten older. Vet visits and medications can be emotionally and financially demanding, but seeing her comfortable and happy makes every effort worthwhile. \n",
      "\n",
      "I'm curious - have any of you considered how pets can also be therapeutic? I've noticed Luna seems to sense when I've had a stressful day and becomes extra affectionate.\n",
      "--------------------------------------------------------------------------------\n"
     ]
    }
   ],
   "execution_count": 4
  }
 ],
 "metadata": {
  "kernelspec": {
   "display_name": "Python 3",
   "language": "python",
   "name": "python3"
  },
  "language_info": {
   "codemirror_mode": {
    "name": "ipython",
    "version": 2
   },
   "file_extension": ".py",
   "mimetype": "text/x-python",
   "name": "python",
   "nbconvert_exporter": "python",
   "pygments_lexer": "ipython2",
   "version": "2.7.6"
  }
 },
 "nbformat": 4,
 "nbformat_minor": 5
}
